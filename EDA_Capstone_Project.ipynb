{
  "nbformat": 4,
  "nbformat_minor": 0,
  "metadata": {
    "colab": {
      "name": "EDA-Capstone-Project.ipynb",
      "provenance": [],
      "collapsed_sections": [
        "v8ZZLu5iqufL",
        "-S_6UQb0gYZc",
        "RNffYwY6eg2q",
        "HLhVMkT9glUs",
        "uRPWbCtGghhc"
      ],
      "mount_file_id": "1AOZsOAVLzcd3Dq6olUnK1TT_5wlu4wXR",
      "authorship_tag": "ABX9TyPc3jypd6jzkN7Cv5d3WFJ+",
      "include_colab_link": true
    },
    "kernelspec": {
      "display_name": "Python 3",
      "name": "python3"
    },
    "language_info": {
      "name": "python"
    }
  },
  "cells": [
    {
      "cell_type": "markdown",
      "metadata": {
        "id": "view-in-github",
        "colab_type": "text"
      },
      "source": [
        "<a href=\"https://colab.research.google.com/github/aynaval/Hotel-booking-analysis_EDA/blob/main/EDA_Capstone_Project.ipynb\" target=\"_parent\"><img src=\"https://colab.research.google.com/assets/colab-badge.svg\" alt=\"Open In Colab\"/></a>"
      ]
    },
    {
      "cell_type": "markdown",
      "metadata": {
        "id": "DaKCtjNgkTmv"
      },
      "source": [
        "# **KPIS for Hotel Industry**\n",
        "\n",
        "---\n",
        "\n",
        "\n",
        "\n",
        "\n",
        "\n",
        "1.   **RevPAR**\n",
        "\n",
        ">Revenue per available room helps in evaluating the hotel’s operational performance. \n",
        "\n",
        "2.  **ALOS**\n",
        "\n",
        ">The Average Length Of Stay \n",
        "\n",
        ">Calculated by dividing the occupied rooms by a number of bookings.\n",
        "\n",
        "3. **Total Available Rooms**\n",
        "\n",
        ">The number of rooms which are readily there to be booked in the hotel.\n",
        "\n",
        "> Computed as sum of Available Rooms and also the number of Occupied Rooms.\n",
        "\n",
        "\n",
        "\n",
        "\n",
        "\n",
        "\n",
        "\n",
        "\n",
        "\n",
        "\n",
        "\n",
        "\n",
        "\n"
      ]
    },
    {
      "cell_type": "code",
      "metadata": {
        "id": "CqKZXYtGDTQG"
      },
      "source": [
        "import numpy as np\n",
        "import pandas as pd\n",
        "%matplotlib inline\n",
        "import matplotlib.pyplot as plt\n",
        "import seaborn as sns\n",
        "plt.style.use('ggplot')\n",
        "\n",
        "from matplotlib import rcParams"
      ],
      "execution_count": 165,
      "outputs": []
    },
    {
      "cell_type": "code",
      "metadata": {
        "id": "v7U7i8ftZKAD"
      },
      "source": [
        "data = pd.read_csv('/content/drive/MyDrive/Hotel booking analysis/Copy of Hotel Bookings.csv')"
      ],
      "execution_count": 166,
      "outputs": []
    },
    {
      "cell_type": "code",
      "metadata": {
        "colab": {
          "base_uri": "https://localhost:8080/",
          "height": 213
        },
        "id": "Z-kNxZ_aZw_t",
        "outputId": "e32518b5-613b-4e33-fa06-0e98e276b62c"
      },
      "source": [
        "data.head(3)"
      ],
      "execution_count": 167,
      "outputs": [
        {
          "output_type": "execute_result",
          "data": {
            "text/html": [
              "<div>\n",
              "<style scoped>\n",
              "    .dataframe tbody tr th:only-of-type {\n",
              "        vertical-align: middle;\n",
              "    }\n",
              "\n",
              "    .dataframe tbody tr th {\n",
              "        vertical-align: top;\n",
              "    }\n",
              "\n",
              "    .dataframe thead th {\n",
              "        text-align: right;\n",
              "    }\n",
              "</style>\n",
              "<table border=\"1\" class=\"dataframe\">\n",
              "  <thead>\n",
              "    <tr style=\"text-align: right;\">\n",
              "      <th></th>\n",
              "      <th>hotel</th>\n",
              "      <th>is_canceled</th>\n",
              "      <th>lead_time</th>\n",
              "      <th>arrival_date_year</th>\n",
              "      <th>arrival_date_month</th>\n",
              "      <th>arrival_date_week_number</th>\n",
              "      <th>arrival_date_day_of_month</th>\n",
              "      <th>stays_in_weekend_nights</th>\n",
              "      <th>stays_in_week_nights</th>\n",
              "      <th>adults</th>\n",
              "      <th>children</th>\n",
              "      <th>babies</th>\n",
              "      <th>meal</th>\n",
              "      <th>country</th>\n",
              "      <th>market_segment</th>\n",
              "      <th>distribution_channel</th>\n",
              "      <th>is_repeated_guest</th>\n",
              "      <th>previous_cancellations</th>\n",
              "      <th>previous_bookings_not_canceled</th>\n",
              "      <th>reserved_room_type</th>\n",
              "      <th>assigned_room_type</th>\n",
              "      <th>booking_changes</th>\n",
              "      <th>deposit_type</th>\n",
              "      <th>agent</th>\n",
              "      <th>company</th>\n",
              "      <th>days_in_waiting_list</th>\n",
              "      <th>customer_type</th>\n",
              "      <th>adr</th>\n",
              "      <th>required_car_parking_spaces</th>\n",
              "      <th>total_of_special_requests</th>\n",
              "      <th>reservation_status</th>\n",
              "      <th>reservation_status_date</th>\n",
              "    </tr>\n",
              "  </thead>\n",
              "  <tbody>\n",
              "    <tr>\n",
              "      <th>0</th>\n",
              "      <td>Resort Hotel</td>\n",
              "      <td>0</td>\n",
              "      <td>342</td>\n",
              "      <td>2015</td>\n",
              "      <td>July</td>\n",
              "      <td>27</td>\n",
              "      <td>1</td>\n",
              "      <td>0</td>\n",
              "      <td>0</td>\n",
              "      <td>2</td>\n",
              "      <td>0.0</td>\n",
              "      <td>0</td>\n",
              "      <td>BB</td>\n",
              "      <td>PRT</td>\n",
              "      <td>Direct</td>\n",
              "      <td>Direct</td>\n",
              "      <td>0</td>\n",
              "      <td>0</td>\n",
              "      <td>0</td>\n",
              "      <td>C</td>\n",
              "      <td>C</td>\n",
              "      <td>3</td>\n",
              "      <td>No Deposit</td>\n",
              "      <td>NaN</td>\n",
              "      <td>NaN</td>\n",
              "      <td>0</td>\n",
              "      <td>Transient</td>\n",
              "      <td>0.0</td>\n",
              "      <td>0</td>\n",
              "      <td>0</td>\n",
              "      <td>Check-Out</td>\n",
              "      <td>2015-07-01</td>\n",
              "    </tr>\n",
              "    <tr>\n",
              "      <th>1</th>\n",
              "      <td>Resort Hotel</td>\n",
              "      <td>0</td>\n",
              "      <td>737</td>\n",
              "      <td>2015</td>\n",
              "      <td>July</td>\n",
              "      <td>27</td>\n",
              "      <td>1</td>\n",
              "      <td>0</td>\n",
              "      <td>0</td>\n",
              "      <td>2</td>\n",
              "      <td>0.0</td>\n",
              "      <td>0</td>\n",
              "      <td>BB</td>\n",
              "      <td>PRT</td>\n",
              "      <td>Direct</td>\n",
              "      <td>Direct</td>\n",
              "      <td>0</td>\n",
              "      <td>0</td>\n",
              "      <td>0</td>\n",
              "      <td>C</td>\n",
              "      <td>C</td>\n",
              "      <td>4</td>\n",
              "      <td>No Deposit</td>\n",
              "      <td>NaN</td>\n",
              "      <td>NaN</td>\n",
              "      <td>0</td>\n",
              "      <td>Transient</td>\n",
              "      <td>0.0</td>\n",
              "      <td>0</td>\n",
              "      <td>0</td>\n",
              "      <td>Check-Out</td>\n",
              "      <td>2015-07-01</td>\n",
              "    </tr>\n",
              "    <tr>\n",
              "      <th>2</th>\n",
              "      <td>Resort Hotel</td>\n",
              "      <td>0</td>\n",
              "      <td>7</td>\n",
              "      <td>2015</td>\n",
              "      <td>July</td>\n",
              "      <td>27</td>\n",
              "      <td>1</td>\n",
              "      <td>0</td>\n",
              "      <td>1</td>\n",
              "      <td>1</td>\n",
              "      <td>0.0</td>\n",
              "      <td>0</td>\n",
              "      <td>BB</td>\n",
              "      <td>GBR</td>\n",
              "      <td>Direct</td>\n",
              "      <td>Direct</td>\n",
              "      <td>0</td>\n",
              "      <td>0</td>\n",
              "      <td>0</td>\n",
              "      <td>A</td>\n",
              "      <td>C</td>\n",
              "      <td>0</td>\n",
              "      <td>No Deposit</td>\n",
              "      <td>NaN</td>\n",
              "      <td>NaN</td>\n",
              "      <td>0</td>\n",
              "      <td>Transient</td>\n",
              "      <td>75.0</td>\n",
              "      <td>0</td>\n",
              "      <td>0</td>\n",
              "      <td>Check-Out</td>\n",
              "      <td>2015-07-02</td>\n",
              "    </tr>\n",
              "  </tbody>\n",
              "</table>\n",
              "</div>"
            ],
            "text/plain": [
              "          hotel  is_canceled  ...  reservation_status  reservation_status_date\n",
              "0  Resort Hotel            0  ...           Check-Out               2015-07-01\n",
              "1  Resort Hotel            0  ...           Check-Out               2015-07-01\n",
              "2  Resort Hotel            0  ...           Check-Out               2015-07-02\n",
              "\n",
              "[3 rows x 32 columns]"
            ]
          },
          "metadata": {},
          "execution_count": 167
        }
      ]
    },
    {
      "cell_type": "code",
      "metadata": {
        "colab": {
          "base_uri": "https://localhost:8080/",
          "height": 213
        },
        "id": "TmZQm_ZvZyuW",
        "outputId": "1707d1f6-7a99-469b-f345-40b9d88607b9"
      },
      "source": [
        "data.tail(3)"
      ],
      "execution_count": 168,
      "outputs": [
        {
          "output_type": "execute_result",
          "data": {
            "text/html": [
              "<div>\n",
              "<style scoped>\n",
              "    .dataframe tbody tr th:only-of-type {\n",
              "        vertical-align: middle;\n",
              "    }\n",
              "\n",
              "    .dataframe tbody tr th {\n",
              "        vertical-align: top;\n",
              "    }\n",
              "\n",
              "    .dataframe thead th {\n",
              "        text-align: right;\n",
              "    }\n",
              "</style>\n",
              "<table border=\"1\" class=\"dataframe\">\n",
              "  <thead>\n",
              "    <tr style=\"text-align: right;\">\n",
              "      <th></th>\n",
              "      <th>hotel</th>\n",
              "      <th>is_canceled</th>\n",
              "      <th>lead_time</th>\n",
              "      <th>arrival_date_year</th>\n",
              "      <th>arrival_date_month</th>\n",
              "      <th>arrival_date_week_number</th>\n",
              "      <th>arrival_date_day_of_month</th>\n",
              "      <th>stays_in_weekend_nights</th>\n",
              "      <th>stays_in_week_nights</th>\n",
              "      <th>adults</th>\n",
              "      <th>children</th>\n",
              "      <th>babies</th>\n",
              "      <th>meal</th>\n",
              "      <th>country</th>\n",
              "      <th>market_segment</th>\n",
              "      <th>distribution_channel</th>\n",
              "      <th>is_repeated_guest</th>\n",
              "      <th>previous_cancellations</th>\n",
              "      <th>previous_bookings_not_canceled</th>\n",
              "      <th>reserved_room_type</th>\n",
              "      <th>assigned_room_type</th>\n",
              "      <th>booking_changes</th>\n",
              "      <th>deposit_type</th>\n",
              "      <th>agent</th>\n",
              "      <th>company</th>\n",
              "      <th>days_in_waiting_list</th>\n",
              "      <th>customer_type</th>\n",
              "      <th>adr</th>\n",
              "      <th>required_car_parking_spaces</th>\n",
              "      <th>total_of_special_requests</th>\n",
              "      <th>reservation_status</th>\n",
              "      <th>reservation_status_date</th>\n",
              "    </tr>\n",
              "  </thead>\n",
              "  <tbody>\n",
              "    <tr>\n",
              "      <th>119387</th>\n",
              "      <td>City Hotel</td>\n",
              "      <td>0</td>\n",
              "      <td>34</td>\n",
              "      <td>2017</td>\n",
              "      <td>August</td>\n",
              "      <td>35</td>\n",
              "      <td>31</td>\n",
              "      <td>2</td>\n",
              "      <td>5</td>\n",
              "      <td>2</td>\n",
              "      <td>0.0</td>\n",
              "      <td>0</td>\n",
              "      <td>BB</td>\n",
              "      <td>DEU</td>\n",
              "      <td>Online TA</td>\n",
              "      <td>TA/TO</td>\n",
              "      <td>0</td>\n",
              "      <td>0</td>\n",
              "      <td>0</td>\n",
              "      <td>D</td>\n",
              "      <td>D</td>\n",
              "      <td>0</td>\n",
              "      <td>No Deposit</td>\n",
              "      <td>9.0</td>\n",
              "      <td>NaN</td>\n",
              "      <td>0</td>\n",
              "      <td>Transient</td>\n",
              "      <td>157.71</td>\n",
              "      <td>0</td>\n",
              "      <td>4</td>\n",
              "      <td>Check-Out</td>\n",
              "      <td>2017-09-07</td>\n",
              "    </tr>\n",
              "    <tr>\n",
              "      <th>119388</th>\n",
              "      <td>City Hotel</td>\n",
              "      <td>0</td>\n",
              "      <td>109</td>\n",
              "      <td>2017</td>\n",
              "      <td>August</td>\n",
              "      <td>35</td>\n",
              "      <td>31</td>\n",
              "      <td>2</td>\n",
              "      <td>5</td>\n",
              "      <td>2</td>\n",
              "      <td>0.0</td>\n",
              "      <td>0</td>\n",
              "      <td>BB</td>\n",
              "      <td>GBR</td>\n",
              "      <td>Online TA</td>\n",
              "      <td>TA/TO</td>\n",
              "      <td>0</td>\n",
              "      <td>0</td>\n",
              "      <td>0</td>\n",
              "      <td>A</td>\n",
              "      <td>A</td>\n",
              "      <td>0</td>\n",
              "      <td>No Deposit</td>\n",
              "      <td>89.0</td>\n",
              "      <td>NaN</td>\n",
              "      <td>0</td>\n",
              "      <td>Transient</td>\n",
              "      <td>104.40</td>\n",
              "      <td>0</td>\n",
              "      <td>0</td>\n",
              "      <td>Check-Out</td>\n",
              "      <td>2017-09-07</td>\n",
              "    </tr>\n",
              "    <tr>\n",
              "      <th>119389</th>\n",
              "      <td>City Hotel</td>\n",
              "      <td>0</td>\n",
              "      <td>205</td>\n",
              "      <td>2017</td>\n",
              "      <td>August</td>\n",
              "      <td>35</td>\n",
              "      <td>29</td>\n",
              "      <td>2</td>\n",
              "      <td>7</td>\n",
              "      <td>2</td>\n",
              "      <td>0.0</td>\n",
              "      <td>0</td>\n",
              "      <td>HB</td>\n",
              "      <td>DEU</td>\n",
              "      <td>Online TA</td>\n",
              "      <td>TA/TO</td>\n",
              "      <td>0</td>\n",
              "      <td>0</td>\n",
              "      <td>0</td>\n",
              "      <td>A</td>\n",
              "      <td>A</td>\n",
              "      <td>0</td>\n",
              "      <td>No Deposit</td>\n",
              "      <td>9.0</td>\n",
              "      <td>NaN</td>\n",
              "      <td>0</td>\n",
              "      <td>Transient</td>\n",
              "      <td>151.20</td>\n",
              "      <td>0</td>\n",
              "      <td>2</td>\n",
              "      <td>Check-Out</td>\n",
              "      <td>2017-09-07</td>\n",
              "    </tr>\n",
              "  </tbody>\n",
              "</table>\n",
              "</div>"
            ],
            "text/plain": [
              "             hotel  is_canceled  ...  reservation_status  reservation_status_date\n",
              "119387  City Hotel            0  ...           Check-Out               2017-09-07\n",
              "119388  City Hotel            0  ...           Check-Out               2017-09-07\n",
              "119389  City Hotel            0  ...           Check-Out               2017-09-07\n",
              "\n",
              "[3 rows x 32 columns]"
            ]
          },
          "metadata": {},
          "execution_count": 168
        }
      ]
    },
    {
      "cell_type": "code",
      "metadata": {
        "colab": {
          "base_uri": "https://localhost:8080/",
          "height": 317
        },
        "id": "9vn5oHg4d7F2",
        "outputId": "6dbed57f-b333-474e-e4c1-b3b2f3ecd5e6"
      },
      "source": [
        "data.describe()"
      ],
      "execution_count": 169,
      "outputs": [
        {
          "output_type": "execute_result",
          "data": {
            "text/html": [
              "<div>\n",
              "<style scoped>\n",
              "    .dataframe tbody tr th:only-of-type {\n",
              "        vertical-align: middle;\n",
              "    }\n",
              "\n",
              "    .dataframe tbody tr th {\n",
              "        vertical-align: top;\n",
              "    }\n",
              "\n",
              "    .dataframe thead th {\n",
              "        text-align: right;\n",
              "    }\n",
              "</style>\n",
              "<table border=\"1\" class=\"dataframe\">\n",
              "  <thead>\n",
              "    <tr style=\"text-align: right;\">\n",
              "      <th></th>\n",
              "      <th>is_canceled</th>\n",
              "      <th>lead_time</th>\n",
              "      <th>arrival_date_year</th>\n",
              "      <th>arrival_date_week_number</th>\n",
              "      <th>arrival_date_day_of_month</th>\n",
              "      <th>stays_in_weekend_nights</th>\n",
              "      <th>stays_in_week_nights</th>\n",
              "      <th>adults</th>\n",
              "      <th>children</th>\n",
              "      <th>babies</th>\n",
              "      <th>is_repeated_guest</th>\n",
              "      <th>previous_cancellations</th>\n",
              "      <th>previous_bookings_not_canceled</th>\n",
              "      <th>booking_changes</th>\n",
              "      <th>agent</th>\n",
              "      <th>company</th>\n",
              "      <th>days_in_waiting_list</th>\n",
              "      <th>adr</th>\n",
              "      <th>required_car_parking_spaces</th>\n",
              "      <th>total_of_special_requests</th>\n",
              "    </tr>\n",
              "  </thead>\n",
              "  <tbody>\n",
              "    <tr>\n",
              "      <th>count</th>\n",
              "      <td>119390.000000</td>\n",
              "      <td>119390.000000</td>\n",
              "      <td>119390.000000</td>\n",
              "      <td>119390.000000</td>\n",
              "      <td>119390.000000</td>\n",
              "      <td>119390.000000</td>\n",
              "      <td>119390.000000</td>\n",
              "      <td>119390.000000</td>\n",
              "      <td>119386.000000</td>\n",
              "      <td>119390.000000</td>\n",
              "      <td>119390.000000</td>\n",
              "      <td>119390.000000</td>\n",
              "      <td>119390.000000</td>\n",
              "      <td>119390.000000</td>\n",
              "      <td>103050.000000</td>\n",
              "      <td>6797.000000</td>\n",
              "      <td>119390.000000</td>\n",
              "      <td>119390.000000</td>\n",
              "      <td>119390.000000</td>\n",
              "      <td>119390.000000</td>\n",
              "    </tr>\n",
              "    <tr>\n",
              "      <th>mean</th>\n",
              "      <td>0.370416</td>\n",
              "      <td>104.011416</td>\n",
              "      <td>2016.156554</td>\n",
              "      <td>27.165173</td>\n",
              "      <td>15.798241</td>\n",
              "      <td>0.927599</td>\n",
              "      <td>2.500302</td>\n",
              "      <td>1.856403</td>\n",
              "      <td>0.103890</td>\n",
              "      <td>0.007949</td>\n",
              "      <td>0.031912</td>\n",
              "      <td>0.087118</td>\n",
              "      <td>0.137097</td>\n",
              "      <td>0.221124</td>\n",
              "      <td>86.693382</td>\n",
              "      <td>189.266735</td>\n",
              "      <td>2.321149</td>\n",
              "      <td>101.831122</td>\n",
              "      <td>0.062518</td>\n",
              "      <td>0.571363</td>\n",
              "    </tr>\n",
              "    <tr>\n",
              "      <th>std</th>\n",
              "      <td>0.482918</td>\n",
              "      <td>106.863097</td>\n",
              "      <td>0.707476</td>\n",
              "      <td>13.605138</td>\n",
              "      <td>8.780829</td>\n",
              "      <td>0.998613</td>\n",
              "      <td>1.908286</td>\n",
              "      <td>0.579261</td>\n",
              "      <td>0.398561</td>\n",
              "      <td>0.097436</td>\n",
              "      <td>0.175767</td>\n",
              "      <td>0.844336</td>\n",
              "      <td>1.497437</td>\n",
              "      <td>0.652306</td>\n",
              "      <td>110.774548</td>\n",
              "      <td>131.655015</td>\n",
              "      <td>17.594721</td>\n",
              "      <td>50.535790</td>\n",
              "      <td>0.245291</td>\n",
              "      <td>0.792798</td>\n",
              "    </tr>\n",
              "    <tr>\n",
              "      <th>min</th>\n",
              "      <td>0.000000</td>\n",
              "      <td>0.000000</td>\n",
              "      <td>2015.000000</td>\n",
              "      <td>1.000000</td>\n",
              "      <td>1.000000</td>\n",
              "      <td>0.000000</td>\n",
              "      <td>0.000000</td>\n",
              "      <td>0.000000</td>\n",
              "      <td>0.000000</td>\n",
              "      <td>0.000000</td>\n",
              "      <td>0.000000</td>\n",
              "      <td>0.000000</td>\n",
              "      <td>0.000000</td>\n",
              "      <td>0.000000</td>\n",
              "      <td>1.000000</td>\n",
              "      <td>6.000000</td>\n",
              "      <td>0.000000</td>\n",
              "      <td>-6.380000</td>\n",
              "      <td>0.000000</td>\n",
              "      <td>0.000000</td>\n",
              "    </tr>\n",
              "    <tr>\n",
              "      <th>25%</th>\n",
              "      <td>0.000000</td>\n",
              "      <td>18.000000</td>\n",
              "      <td>2016.000000</td>\n",
              "      <td>16.000000</td>\n",
              "      <td>8.000000</td>\n",
              "      <td>0.000000</td>\n",
              "      <td>1.000000</td>\n",
              "      <td>2.000000</td>\n",
              "      <td>0.000000</td>\n",
              "      <td>0.000000</td>\n",
              "      <td>0.000000</td>\n",
              "      <td>0.000000</td>\n",
              "      <td>0.000000</td>\n",
              "      <td>0.000000</td>\n",
              "      <td>9.000000</td>\n",
              "      <td>62.000000</td>\n",
              "      <td>0.000000</td>\n",
              "      <td>69.290000</td>\n",
              "      <td>0.000000</td>\n",
              "      <td>0.000000</td>\n",
              "    </tr>\n",
              "    <tr>\n",
              "      <th>50%</th>\n",
              "      <td>0.000000</td>\n",
              "      <td>69.000000</td>\n",
              "      <td>2016.000000</td>\n",
              "      <td>28.000000</td>\n",
              "      <td>16.000000</td>\n",
              "      <td>1.000000</td>\n",
              "      <td>2.000000</td>\n",
              "      <td>2.000000</td>\n",
              "      <td>0.000000</td>\n",
              "      <td>0.000000</td>\n",
              "      <td>0.000000</td>\n",
              "      <td>0.000000</td>\n",
              "      <td>0.000000</td>\n",
              "      <td>0.000000</td>\n",
              "      <td>14.000000</td>\n",
              "      <td>179.000000</td>\n",
              "      <td>0.000000</td>\n",
              "      <td>94.575000</td>\n",
              "      <td>0.000000</td>\n",
              "      <td>0.000000</td>\n",
              "    </tr>\n",
              "    <tr>\n",
              "      <th>75%</th>\n",
              "      <td>1.000000</td>\n",
              "      <td>160.000000</td>\n",
              "      <td>2017.000000</td>\n",
              "      <td>38.000000</td>\n",
              "      <td>23.000000</td>\n",
              "      <td>2.000000</td>\n",
              "      <td>3.000000</td>\n",
              "      <td>2.000000</td>\n",
              "      <td>0.000000</td>\n",
              "      <td>0.000000</td>\n",
              "      <td>0.000000</td>\n",
              "      <td>0.000000</td>\n",
              "      <td>0.000000</td>\n",
              "      <td>0.000000</td>\n",
              "      <td>229.000000</td>\n",
              "      <td>270.000000</td>\n",
              "      <td>0.000000</td>\n",
              "      <td>126.000000</td>\n",
              "      <td>0.000000</td>\n",
              "      <td>1.000000</td>\n",
              "    </tr>\n",
              "    <tr>\n",
              "      <th>max</th>\n",
              "      <td>1.000000</td>\n",
              "      <td>737.000000</td>\n",
              "      <td>2017.000000</td>\n",
              "      <td>53.000000</td>\n",
              "      <td>31.000000</td>\n",
              "      <td>19.000000</td>\n",
              "      <td>50.000000</td>\n",
              "      <td>55.000000</td>\n",
              "      <td>10.000000</td>\n",
              "      <td>10.000000</td>\n",
              "      <td>1.000000</td>\n",
              "      <td>26.000000</td>\n",
              "      <td>72.000000</td>\n",
              "      <td>21.000000</td>\n",
              "      <td>535.000000</td>\n",
              "      <td>543.000000</td>\n",
              "      <td>391.000000</td>\n",
              "      <td>5400.000000</td>\n",
              "      <td>8.000000</td>\n",
              "      <td>5.000000</td>\n",
              "    </tr>\n",
              "  </tbody>\n",
              "</table>\n",
              "</div>"
            ],
            "text/plain": [
              "         is_canceled  ...  total_of_special_requests\n",
              "count  119390.000000  ...              119390.000000\n",
              "mean        0.370416  ...                   0.571363\n",
              "std         0.482918  ...                   0.792798\n",
              "min         0.000000  ...                   0.000000\n",
              "25%         0.000000  ...                   0.000000\n",
              "50%         0.000000  ...                   0.000000\n",
              "75%         1.000000  ...                   1.000000\n",
              "max         1.000000  ...                   5.000000\n",
              "\n",
              "[8 rows x 20 columns]"
            ]
          },
          "metadata": {},
          "execution_count": 169
        }
      ]
    },
    {
      "cell_type": "code",
      "metadata": {
        "colab": {
          "base_uri": "https://localhost:8080/"
        },
        "id": "QObdWcA4f0Ce",
        "outputId": "c38b4687-516d-4b20-f0a1-4ca793ac18fc"
      },
      "source": [
        "data.shape"
      ],
      "execution_count": 170,
      "outputs": [
        {
          "output_type": "execute_result",
          "data": {
            "text/plain": [
              "(119390, 32)"
            ]
          },
          "metadata": {},
          "execution_count": 170
        }
      ]
    },
    {
      "cell_type": "code",
      "metadata": {
        "colab": {
          "base_uri": "https://localhost:8080/"
        },
        "id": "EdMzzTA9-SEf",
        "outputId": "c550e1f6-a80c-468e-defa-92ab204d56c1"
      },
      "source": [
        "data.size"
      ],
      "execution_count": 171,
      "outputs": [
        {
          "output_type": "execute_result",
          "data": {
            "text/plain": [
              "3820480"
            ]
          },
          "metadata": {},
          "execution_count": 171
        }
      ]
    },
    {
      "cell_type": "code",
      "metadata": {
        "colab": {
          "base_uri": "https://localhost:8080/"
        },
        "id": "mclmLPGBbe6B",
        "outputId": "bd02a0f5-d6f6-49a3-f8b0-c578de37f47b"
      },
      "source": [
        "data.info()"
      ],
      "execution_count": 172,
      "outputs": [
        {
          "output_type": "stream",
          "name": "stdout",
          "text": [
            "<class 'pandas.core.frame.DataFrame'>\n",
            "RangeIndex: 119390 entries, 0 to 119389\n",
            "Data columns (total 32 columns):\n",
            " #   Column                          Non-Null Count   Dtype  \n",
            "---  ------                          --------------   -----  \n",
            " 0   hotel                           119390 non-null  object \n",
            " 1   is_canceled                     119390 non-null  int64  \n",
            " 2   lead_time                       119390 non-null  int64  \n",
            " 3   arrival_date_year               119390 non-null  int64  \n",
            " 4   arrival_date_month              119390 non-null  object \n",
            " 5   arrival_date_week_number        119390 non-null  int64  \n",
            " 6   arrival_date_day_of_month       119390 non-null  int64  \n",
            " 7   stays_in_weekend_nights         119390 non-null  int64  \n",
            " 8   stays_in_week_nights            119390 non-null  int64  \n",
            " 9   adults                          119390 non-null  int64  \n",
            " 10  children                        119386 non-null  float64\n",
            " 11  babies                          119390 non-null  int64  \n",
            " 12  meal                            119390 non-null  object \n",
            " 13  country                         118902 non-null  object \n",
            " 14  market_segment                  119390 non-null  object \n",
            " 15  distribution_channel            119390 non-null  object \n",
            " 16  is_repeated_guest               119390 non-null  int64  \n",
            " 17  previous_cancellations          119390 non-null  int64  \n",
            " 18  previous_bookings_not_canceled  119390 non-null  int64  \n",
            " 19  reserved_room_type              119390 non-null  object \n",
            " 20  assigned_room_type              119390 non-null  object \n",
            " 21  booking_changes                 119390 non-null  int64  \n",
            " 22  deposit_type                    119390 non-null  object \n",
            " 23  agent                           103050 non-null  float64\n",
            " 24  company                         6797 non-null    float64\n",
            " 25  days_in_waiting_list            119390 non-null  int64  \n",
            " 26  customer_type                   119390 non-null  object \n",
            " 27  adr                             119390 non-null  float64\n",
            " 28  required_car_parking_spaces     119390 non-null  int64  \n",
            " 29  total_of_special_requests       119390 non-null  int64  \n",
            " 30  reservation_status              119390 non-null  object \n",
            " 31  reservation_status_date         119390 non-null  object \n",
            "dtypes: float64(4), int64(16), object(12)\n",
            "memory usage: 29.1+ MB\n"
          ]
        }
      ]
    },
    {
      "cell_type": "markdown",
      "metadata": {
        "id": "_Jaj9DgXM_US"
      },
      "source": [
        "# **Columns and their meaning**\n",
        "0. hotel \n",
        ">Hotel (H1 = Resort Hotel or H2 = City Hotel)\n",
        "\n",
        "1. is_canceled\n",
        ">Value indicating if the booking was canceled (1) or not (0)\n",
        "\n",
        "2. lead_time\n",
        ">Number of days that elapsed between the entering date of the booking into the PMS and the arrival date\n",
        "\n",
        "3. arrival_date_year\n",
        ">Year of arrival date\n",
        "\n",
        "4. arrival_date_month\n",
        ">Month of arrival date\n",
        "\n",
        "5. arrival_date_week_number\n",
        ">Week number of year for arrival date\n",
        "\n",
        "6. arrival_date_day_of_month\n",
        ">Day of arrival date\n",
        "\n",
        "7. stays_in_weekend_nights\n",
        ">Number of weekend nights (Saturday or Sunday) the guest stayed or booked to stay at the hotel\n",
        "\n",
        "8. stays_in_week_nights\n",
        ">Number of week nights (Monday to Friday) the guest stayed or booked to stay at the hotel\n",
        "\n",
        "9. adults\n",
        ">Number of adults\n",
        "\n",
        "10. children\n",
        ">Number of children\n",
        "\n",
        "11. babies\n",
        ">Number of babies\n",
        "\n",
        "12. meal\n",
        ">Type of meal booked. Categories are presented in standard hospitality meal packages: Undefined/SC – no meal package; BB – Bed & Breakfast; HB – Half board (breakfast and one other meal – usually dinner); FB – Full board (breakfast, lunch and dinner)\n",
        "\n",
        "13. country\n",
        ">Country of origin. Categories are represented in the ISO 3155–3:2013 format\n",
        "\n",
        "14. market_segment\n",
        ">Market segment designation. In categories, the term “TA” means “Travel Agents” and “TO” means “Tour Operators”\n",
        "\n",
        "15. distribution_channel\n",
        ">Booking distribution channel. The term “TA” means “Travel Agents” and “TO” means “Tour Operators”\n",
        "\n",
        "16. is_repeated_guest\n",
        ">Value indicating if the booking name was from a repeated guest (1) or not (0)\n",
        "\n",
        "17. previous_cancellations\n",
        ">Number of previous bookings that were cancelled by the customer prior to the current booking\n",
        "\n",
        "18. previous_bookings_not_canceled\n",
        ">Number of previous bookings not cancelled by the customer prior to the current booking\n",
        "\n",
        "19. reserved_room_type\n",
        ">Code of room type reserved. Code is presented instead of designation for anonymity reasons.\n",
        "\n",
        "20. assigned_room_type\n",
        ">Code for the type of room assigned to the booking. Sometimes the assigned room type differs from the reserved room type due to hotel operation reasons (e.g. overbooking) or by customer request. Code is presented instead of designation for anonymity reasons.\n",
        "\n",
        "21. booking_changes\n",
        ">Number of changes/amendments made to the booking from the moment the booking was entered on the PMS until the moment of check-in or cancellation\n",
        "\n",
        "22. deposit_type\n",
        ">Indication on if the customer made a deposit to guarantee the booking. This variable can assume three categories: No Deposit – no deposit was made; Non Refund – a deposit was made in the value of the total stay cost; Refundable – a deposit was made with a value under the total cost of stay.\n",
        "\n",
        "23. agent\n",
        ">ID of the travel agency that made the booking\n",
        "\n",
        "24. company\n",
        ">ID of the company/entity that made the booking or responsible for paying the booking. ID is presented instead of designation for anonymity reasons\n",
        "\n",
        "25. days_in_waiting_list\n",
        ">Number of days the booking was in the waiting list before it was confirmed to the customer\n",
        "\n",
        "26. customer_type\n",
        ">Type of booking, assuming one of four categories: Contract - when the booking has an allotment or other type of contract associated to it; Group – when the booking is associated to a group; Transient – when the booking is not part of a group or contract, and is not associated to other transient booking; Transient-party – when the booking is transient, but is associated to at least other transient booking\n",
        "\n",
        "27. adr\n",
        ">Average Daily Rate as defined by dividing the sum of all lodging transactions by the total number of staying nights\n",
        "\n",
        "28. required_car_parking_spaces\n",
        ">Number of car parking spaces required by the customer\n",
        "\n",
        "29. total_of_special_requests\n",
        ">Number of special requests made by the customer (e.g. twin bed or high floor)\n",
        "\n",
        "30. reservation_status\n",
        ">Reservation last status, assuming one of three categories: Canceled – booking was canceled by the customer; Check-Out – customer has checked in but already departed; No-Show – customer did not check-in and did inform the hotel of the reason why\n",
        "\n",
        "31. reservation_status_date\n",
        ">Date at which the last status was set. This variable can be used in conjunction with the ReservationStatus to understand when was the booking canceled or when did the customer checked-out of the hotel\n",
        "\n"
      ]
    },
    {
      "cell_type": "code",
      "metadata": {
        "colab": {
          "base_uri": "https://localhost:8080/"
        },
        "id": "D7PEolRK-aOG",
        "outputId": "65aea471-f274-4a95-c245-416e575e3bb8"
      },
      "source": [
        "\n",
        "for i in data.drop(['reservation_status_date','lead_time','arrival_date_week_number','arrival_date_day_of_month','stays_in_weekend_nights','stays_in_week_nights','previous_cancellations','previous_bookings_not_canceled','agent','company','days_in_waiting_list','adr'],axis = 1).columns:\n",
        "  #print(i,data[i].unique() ,\"\\n\")\n",
        "  print(i, \": \")\n",
        "  print(data[i].unique())\n",
        "  print()\n",
        "  print()\n",
        "  "
      ],
      "execution_count": 173,
      "outputs": [
        {
          "output_type": "stream",
          "name": "stdout",
          "text": [
            "hotel : \n",
            "['Resort Hotel' 'City Hotel']\n",
            "\n",
            "\n",
            "is_canceled : \n",
            "[0 1]\n",
            "\n",
            "\n",
            "arrival_date_year : \n",
            "[2015 2016 2017]\n",
            "\n",
            "\n",
            "arrival_date_month : \n",
            "['July' 'August' 'September' 'October' 'November' 'December' 'January'\n",
            " 'February' 'March' 'April' 'May' 'June']\n",
            "\n",
            "\n",
            "adults : \n",
            "[ 2  1  3  4 40 26 50 27 55  0 20  6  5 10]\n",
            "\n",
            "\n",
            "children : \n",
            "[ 0.  1.  2. 10.  3. nan]\n",
            "\n",
            "\n",
            "babies : \n",
            "[ 0  1  2 10  9]\n",
            "\n",
            "\n",
            "meal : \n",
            "['BB' 'FB' 'HB' 'SC' 'Undefined']\n",
            "\n",
            "\n",
            "country : \n",
            "['PRT' 'GBR' 'USA' 'ESP' 'IRL' 'FRA' nan 'ROU' 'NOR' 'OMN' 'ARG' 'POL'\n",
            " 'DEU' 'BEL' 'CHE' 'CN' 'GRC' 'ITA' 'NLD' 'DNK' 'RUS' 'SWE' 'AUS' 'EST'\n",
            " 'CZE' 'BRA' 'FIN' 'MOZ' 'BWA' 'LUX' 'SVN' 'ALB' 'IND' 'CHN' 'MEX' 'MAR'\n",
            " 'UKR' 'SMR' 'LVA' 'PRI' 'SRB' 'CHL' 'AUT' 'BLR' 'LTU' 'TUR' 'ZAF' 'AGO'\n",
            " 'ISR' 'CYM' 'ZMB' 'CPV' 'ZWE' 'DZA' 'KOR' 'CRI' 'HUN' 'ARE' 'TUN' 'JAM'\n",
            " 'HRV' 'HKG' 'IRN' 'GEO' 'AND' 'GIB' 'URY' 'JEY' 'CAF' 'CYP' 'COL' 'GGY'\n",
            " 'KWT' 'NGA' 'MDV' 'VEN' 'SVK' 'FJI' 'KAZ' 'PAK' 'IDN' 'LBN' 'PHL' 'SEN'\n",
            " 'SYC' 'AZE' 'BHR' 'NZL' 'THA' 'DOM' 'MKD' 'MYS' 'ARM' 'JPN' 'LKA' 'CUB'\n",
            " 'CMR' 'BIH' 'MUS' 'COM' 'SUR' 'UGA' 'BGR' 'CIV' 'JOR' 'SYR' 'SGP' 'BDI'\n",
            " 'SAU' 'VNM' 'PLW' 'QAT' 'EGY' 'PER' 'MLT' 'MWI' 'ECU' 'MDG' 'ISL' 'UZB'\n",
            " 'NPL' 'BHS' 'MAC' 'TGO' 'TWN' 'DJI' 'STP' 'KNA' 'ETH' 'IRQ' 'HND' 'RWA'\n",
            " 'KHM' 'MCO' 'BGD' 'IMN' 'TJK' 'NIC' 'BEN' 'VGB' 'TZA' 'GAB' 'GHA' 'TMP'\n",
            " 'GLP' 'KEN' 'LIE' 'GNB' 'MNE' 'UMI' 'MYT' 'FRO' 'MMR' 'PAN' 'BFA' 'LBY'\n",
            " 'MLI' 'NAM' 'BOL' 'PRY' 'BRB' 'ABW' 'AIA' 'SLV' 'DMA' 'PYF' 'GUY' 'LCA'\n",
            " 'ATA' 'GTM' 'ASM' 'MRT' 'NCL' 'KIR' 'SDN' 'ATF' 'SLE' 'LAO']\n",
            "\n",
            "\n",
            "market_segment : \n",
            "['Direct' 'Corporate' 'Online TA' 'Offline TA/TO' 'Complementary' 'Groups'\n",
            " 'Undefined' 'Aviation']\n",
            "\n",
            "\n",
            "distribution_channel : \n",
            "['Direct' 'Corporate' 'TA/TO' 'Undefined' 'GDS']\n",
            "\n",
            "\n",
            "is_repeated_guest : \n",
            "[0 1]\n",
            "\n",
            "\n",
            "reserved_room_type : \n",
            "['C' 'A' 'D' 'E' 'G' 'F' 'H' 'L' 'P' 'B']\n",
            "\n",
            "\n",
            "assigned_room_type : \n",
            "['C' 'A' 'D' 'E' 'G' 'F' 'I' 'B' 'H' 'P' 'L' 'K']\n",
            "\n",
            "\n",
            "booking_changes : \n",
            "[ 3  4  0  1  2  5 17  6  8  7 10 16  9 13 12 20 14 15 11 21 18]\n",
            "\n",
            "\n",
            "deposit_type : \n",
            "['No Deposit' 'Refundable' 'Non Refund']\n",
            "\n",
            "\n",
            "customer_type : \n",
            "['Transient' 'Contract' 'Transient-Party' 'Group']\n",
            "\n",
            "\n",
            "required_car_parking_spaces : \n",
            "[0 1 2 8 3]\n",
            "\n",
            "\n",
            "total_of_special_requests : \n",
            "[0 1 3 2 4 5]\n",
            "\n",
            "\n",
            "reservation_status : \n",
            "['Check-Out' 'Canceled' 'No-Show']\n",
            "\n",
            "\n"
          ]
        }
      ]
    },
    {
      "cell_type": "code",
      "metadata": {
        "colab": {
          "base_uri": "https://localhost:8080/"
        },
        "id": "eUXZ90KUO-nj",
        "outputId": "5435beff-f5f4-431f-bac8-a5e6102a7932"
      },
      "source": [
        "for i in  data.drop(['reservation_status_date','lead_time','arrival_date_week_number','arrival_date_day_of_month','stays_in_weekend_nights','stays_in_week_nights','previous_cancellations','previous_bookings_not_canceled','agent','company','days_in_waiting_list','adr'],axis = 1).columns:\n",
        "  print(i)\n",
        "  print(data[i].value_counts())\n",
        "  print()\n",
        "  print()\n"
      ],
      "execution_count": 174,
      "outputs": [
        {
          "output_type": "stream",
          "name": "stdout",
          "text": [
            "hotel\n",
            "City Hotel      79330\n",
            "Resort Hotel    40060\n",
            "Name: hotel, dtype: int64\n",
            "\n",
            "\n",
            "is_canceled\n",
            "0    75166\n",
            "1    44224\n",
            "Name: is_canceled, dtype: int64\n",
            "\n",
            "\n",
            "arrival_date_year\n",
            "2016    56707\n",
            "2017    40687\n",
            "2015    21996\n",
            "Name: arrival_date_year, dtype: int64\n",
            "\n",
            "\n",
            "arrival_date_month\n",
            "August       13877\n",
            "July         12661\n",
            "May          11791\n",
            "October      11160\n",
            "April        11089\n",
            "June         10939\n",
            "September    10508\n",
            "March         9794\n",
            "February      8068\n",
            "November      6794\n",
            "December      6780\n",
            "January       5929\n",
            "Name: arrival_date_month, dtype: int64\n",
            "\n",
            "\n",
            "adults\n",
            "2     89680\n",
            "1     23027\n",
            "3      6202\n",
            "0       403\n",
            "4        62\n",
            "26        5\n",
            "27        2\n",
            "20        2\n",
            "5         2\n",
            "55        1\n",
            "50        1\n",
            "40        1\n",
            "10        1\n",
            "6         1\n",
            "Name: adults, dtype: int64\n",
            "\n",
            "\n",
            "children\n",
            "0.0     110796\n",
            "1.0       4861\n",
            "2.0       3652\n",
            "3.0         76\n",
            "10.0         1\n",
            "Name: children, dtype: int64\n",
            "\n",
            "\n",
            "babies\n",
            "0     118473\n",
            "1        900\n",
            "2         15\n",
            "10         1\n",
            "9          1\n",
            "Name: babies, dtype: int64\n",
            "\n",
            "\n",
            "meal\n",
            "BB           92310\n",
            "HB           14463\n",
            "SC           10650\n",
            "Undefined     1169\n",
            "FB             798\n",
            "Name: meal, dtype: int64\n",
            "\n",
            "\n",
            "country\n",
            "PRT    48590\n",
            "GBR    12129\n",
            "FRA    10415\n",
            "ESP     8568\n",
            "DEU     7287\n",
            "       ...  \n",
            "NIC        1\n",
            "SLE        1\n",
            "AIA        1\n",
            "LCA        1\n",
            "NPL        1\n",
            "Name: country, Length: 177, dtype: int64\n",
            "\n",
            "\n",
            "market_segment\n",
            "Online TA        56477\n",
            "Offline TA/TO    24219\n",
            "Groups           19811\n",
            "Direct           12606\n",
            "Corporate         5295\n",
            "Complementary      743\n",
            "Aviation           237\n",
            "Undefined            2\n",
            "Name: market_segment, dtype: int64\n",
            "\n",
            "\n",
            "distribution_channel\n",
            "TA/TO        97870\n",
            "Direct       14645\n",
            "Corporate     6677\n",
            "GDS            193\n",
            "Undefined        5\n",
            "Name: distribution_channel, dtype: int64\n",
            "\n",
            "\n",
            "is_repeated_guest\n",
            "0    115580\n",
            "1      3810\n",
            "Name: is_repeated_guest, dtype: int64\n",
            "\n",
            "\n",
            "reserved_room_type\n",
            "A    85994\n",
            "D    19201\n",
            "E     6535\n",
            "F     2897\n",
            "G     2094\n",
            "B     1118\n",
            "C      932\n",
            "H      601\n",
            "P       12\n",
            "L        6\n",
            "Name: reserved_room_type, dtype: int64\n",
            "\n",
            "\n",
            "assigned_room_type\n",
            "A    74053\n",
            "D    25322\n",
            "E     7806\n",
            "F     3751\n",
            "G     2553\n",
            "C     2375\n",
            "B     2163\n",
            "H      712\n",
            "I      363\n",
            "K      279\n",
            "P       12\n",
            "L        1\n",
            "Name: assigned_room_type, dtype: int64\n",
            "\n",
            "\n",
            "booking_changes\n",
            "0     101314\n",
            "1      12701\n",
            "2       3805\n",
            "3        927\n",
            "4        376\n",
            "5        118\n",
            "6         63\n",
            "7         31\n",
            "8         17\n",
            "9          8\n",
            "10         6\n",
            "13         5\n",
            "14         5\n",
            "15         3\n",
            "11         2\n",
            "12         2\n",
            "16         2\n",
            "17         2\n",
            "20         1\n",
            "18         1\n",
            "21         1\n",
            "Name: booking_changes, dtype: int64\n",
            "\n",
            "\n",
            "deposit_type\n",
            "No Deposit    104641\n",
            "Non Refund     14587\n",
            "Refundable       162\n",
            "Name: deposit_type, dtype: int64\n",
            "\n",
            "\n",
            "customer_type\n",
            "Transient          89613\n",
            "Transient-Party    25124\n",
            "Contract            4076\n",
            "Group                577\n",
            "Name: customer_type, dtype: int64\n",
            "\n",
            "\n",
            "required_car_parking_spaces\n",
            "0    111974\n",
            "1      7383\n",
            "2        28\n",
            "3         3\n",
            "8         2\n",
            "Name: required_car_parking_spaces, dtype: int64\n",
            "\n",
            "\n",
            "total_of_special_requests\n",
            "0    70318\n",
            "1    33226\n",
            "2    12969\n",
            "3     2497\n",
            "4      340\n",
            "5       40\n",
            "Name: total_of_special_requests, dtype: int64\n",
            "\n",
            "\n",
            "reservation_status\n",
            "Check-Out    75166\n",
            "Canceled     43017\n",
            "No-Show       1207\n",
            "Name: reservation_status, dtype: int64\n",
            "\n",
            "\n"
          ]
        }
      ]
    },
    {
      "cell_type": "markdown",
      "metadata": {
        "id": "aW9RLRCs2U3V"
      },
      "source": [
        "# Checking null values"
      ]
    },
    {
      "cell_type": "code",
      "metadata": {
        "colab": {
          "base_uri": "https://localhost:8080/",
          "height": 1000
        },
        "id": "63FF9Eyo8gYs",
        "outputId": "7f5609fe-8ff6-4421-a275-c050236f533f"
      },
      "source": [
        "type(data.isnull().sum())\n",
        "pd.concat([data.isnull().sum(),round(100*(data.isnull().sum()/len(data.index)),2)],axis=1,keys=['missing values','percent '])"
      ],
      "execution_count": 175,
      "outputs": [
        {
          "output_type": "execute_result",
          "data": {
            "text/html": [
              "<div>\n",
              "<style scoped>\n",
              "    .dataframe tbody tr th:only-of-type {\n",
              "        vertical-align: middle;\n",
              "    }\n",
              "\n",
              "    .dataframe tbody tr th {\n",
              "        vertical-align: top;\n",
              "    }\n",
              "\n",
              "    .dataframe thead th {\n",
              "        text-align: right;\n",
              "    }\n",
              "</style>\n",
              "<table border=\"1\" class=\"dataframe\">\n",
              "  <thead>\n",
              "    <tr style=\"text-align: right;\">\n",
              "      <th></th>\n",
              "      <th>missing values</th>\n",
              "      <th>percent</th>\n",
              "    </tr>\n",
              "  </thead>\n",
              "  <tbody>\n",
              "    <tr>\n",
              "      <th>hotel</th>\n",
              "      <td>0</td>\n",
              "      <td>0.00</td>\n",
              "    </tr>\n",
              "    <tr>\n",
              "      <th>is_canceled</th>\n",
              "      <td>0</td>\n",
              "      <td>0.00</td>\n",
              "    </tr>\n",
              "    <tr>\n",
              "      <th>lead_time</th>\n",
              "      <td>0</td>\n",
              "      <td>0.00</td>\n",
              "    </tr>\n",
              "    <tr>\n",
              "      <th>arrival_date_year</th>\n",
              "      <td>0</td>\n",
              "      <td>0.00</td>\n",
              "    </tr>\n",
              "    <tr>\n",
              "      <th>arrival_date_month</th>\n",
              "      <td>0</td>\n",
              "      <td>0.00</td>\n",
              "    </tr>\n",
              "    <tr>\n",
              "      <th>arrival_date_week_number</th>\n",
              "      <td>0</td>\n",
              "      <td>0.00</td>\n",
              "    </tr>\n",
              "    <tr>\n",
              "      <th>arrival_date_day_of_month</th>\n",
              "      <td>0</td>\n",
              "      <td>0.00</td>\n",
              "    </tr>\n",
              "    <tr>\n",
              "      <th>stays_in_weekend_nights</th>\n",
              "      <td>0</td>\n",
              "      <td>0.00</td>\n",
              "    </tr>\n",
              "    <tr>\n",
              "      <th>stays_in_week_nights</th>\n",
              "      <td>0</td>\n",
              "      <td>0.00</td>\n",
              "    </tr>\n",
              "    <tr>\n",
              "      <th>adults</th>\n",
              "      <td>0</td>\n",
              "      <td>0.00</td>\n",
              "    </tr>\n",
              "    <tr>\n",
              "      <th>children</th>\n",
              "      <td>4</td>\n",
              "      <td>0.00</td>\n",
              "    </tr>\n",
              "    <tr>\n",
              "      <th>babies</th>\n",
              "      <td>0</td>\n",
              "      <td>0.00</td>\n",
              "    </tr>\n",
              "    <tr>\n",
              "      <th>meal</th>\n",
              "      <td>0</td>\n",
              "      <td>0.00</td>\n",
              "    </tr>\n",
              "    <tr>\n",
              "      <th>country</th>\n",
              "      <td>488</td>\n",
              "      <td>0.41</td>\n",
              "    </tr>\n",
              "    <tr>\n",
              "      <th>market_segment</th>\n",
              "      <td>0</td>\n",
              "      <td>0.00</td>\n",
              "    </tr>\n",
              "    <tr>\n",
              "      <th>distribution_channel</th>\n",
              "      <td>0</td>\n",
              "      <td>0.00</td>\n",
              "    </tr>\n",
              "    <tr>\n",
              "      <th>is_repeated_guest</th>\n",
              "      <td>0</td>\n",
              "      <td>0.00</td>\n",
              "    </tr>\n",
              "    <tr>\n",
              "      <th>previous_cancellations</th>\n",
              "      <td>0</td>\n",
              "      <td>0.00</td>\n",
              "    </tr>\n",
              "    <tr>\n",
              "      <th>previous_bookings_not_canceled</th>\n",
              "      <td>0</td>\n",
              "      <td>0.00</td>\n",
              "    </tr>\n",
              "    <tr>\n",
              "      <th>reserved_room_type</th>\n",
              "      <td>0</td>\n",
              "      <td>0.00</td>\n",
              "    </tr>\n",
              "    <tr>\n",
              "      <th>assigned_room_type</th>\n",
              "      <td>0</td>\n",
              "      <td>0.00</td>\n",
              "    </tr>\n",
              "    <tr>\n",
              "      <th>booking_changes</th>\n",
              "      <td>0</td>\n",
              "      <td>0.00</td>\n",
              "    </tr>\n",
              "    <tr>\n",
              "      <th>deposit_type</th>\n",
              "      <td>0</td>\n",
              "      <td>0.00</td>\n",
              "    </tr>\n",
              "    <tr>\n",
              "      <th>agent</th>\n",
              "      <td>16340</td>\n",
              "      <td>13.69</td>\n",
              "    </tr>\n",
              "    <tr>\n",
              "      <th>company</th>\n",
              "      <td>112593</td>\n",
              "      <td>94.31</td>\n",
              "    </tr>\n",
              "    <tr>\n",
              "      <th>days_in_waiting_list</th>\n",
              "      <td>0</td>\n",
              "      <td>0.00</td>\n",
              "    </tr>\n",
              "    <tr>\n",
              "      <th>customer_type</th>\n",
              "      <td>0</td>\n",
              "      <td>0.00</td>\n",
              "    </tr>\n",
              "    <tr>\n",
              "      <th>adr</th>\n",
              "      <td>0</td>\n",
              "      <td>0.00</td>\n",
              "    </tr>\n",
              "    <tr>\n",
              "      <th>required_car_parking_spaces</th>\n",
              "      <td>0</td>\n",
              "      <td>0.00</td>\n",
              "    </tr>\n",
              "    <tr>\n",
              "      <th>total_of_special_requests</th>\n",
              "      <td>0</td>\n",
              "      <td>0.00</td>\n",
              "    </tr>\n",
              "    <tr>\n",
              "      <th>reservation_status</th>\n",
              "      <td>0</td>\n",
              "      <td>0.00</td>\n",
              "    </tr>\n",
              "    <tr>\n",
              "      <th>reservation_status_date</th>\n",
              "      <td>0</td>\n",
              "      <td>0.00</td>\n",
              "    </tr>\n",
              "  </tbody>\n",
              "</table>\n",
              "</div>"
            ],
            "text/plain": [
              "                                missing values  percent \n",
              "hotel                                        0      0.00\n",
              "is_canceled                                  0      0.00\n",
              "lead_time                                    0      0.00\n",
              "arrival_date_year                            0      0.00\n",
              "arrival_date_month                           0      0.00\n",
              "arrival_date_week_number                     0      0.00\n",
              "arrival_date_day_of_month                    0      0.00\n",
              "stays_in_weekend_nights                      0      0.00\n",
              "stays_in_week_nights                         0      0.00\n",
              "adults                                       0      0.00\n",
              "children                                     4      0.00\n",
              "babies                                       0      0.00\n",
              "meal                                         0      0.00\n",
              "country                                    488      0.41\n",
              "market_segment                               0      0.00\n",
              "distribution_channel                         0      0.00\n",
              "is_repeated_guest                            0      0.00\n",
              "previous_cancellations                       0      0.00\n",
              "previous_bookings_not_canceled               0      0.00\n",
              "reserved_room_type                           0      0.00\n",
              "assigned_room_type                           0      0.00\n",
              "booking_changes                              0      0.00\n",
              "deposit_type                                 0      0.00\n",
              "agent                                    16340     13.69\n",
              "company                                 112593     94.31\n",
              "days_in_waiting_list                         0      0.00\n",
              "customer_type                                0      0.00\n",
              "adr                                          0      0.00\n",
              "required_car_parking_spaces                  0      0.00\n",
              "total_of_special_requests                    0      0.00\n",
              "reservation_status                           0      0.00\n",
              "reservation_status_date                      0      0.00"
            ]
          },
          "metadata": {},
          "execution_count": 175
        }
      ]
    },
    {
      "cell_type": "markdown",
      "metadata": {
        "id": "9Byjw0oKeOKE"
      },
      "source": [
        "\n",
        "# NULL VALUES"
      ]
    },
    {
      "cell_type": "markdown",
      "metadata": {
        "id": "v8ZZLu5iqufL"
      },
      "source": [
        "## Dropping cols with highest missing values"
      ]
    },
    {
      "cell_type": "code",
      "metadata": {
        "colab": {
          "base_uri": "https://localhost:8080/"
        },
        "id": "4VgUq0Z4ialH",
        "outputId": "23108a65-95fe-48d4-d157-6b164bf8714c"
      },
      "source": [
        " data['company'].count()"
      ],
      "execution_count": 176,
      "outputs": [
        {
          "output_type": "execute_result",
          "data": {
            "text/plain": [
              "6797"
            ]
          },
          "metadata": {},
          "execution_count": 176
        }
      ]
    },
    {
      "cell_type": "code",
      "metadata": {
        "colab": {
          "base_uri": "https://localhost:8080/"
        },
        "id": "PzvJrghGkgb_",
        "outputId": "c1176ede-6453-46c6-e30a-9af61e332491"
      },
      "source": [
        "data['agent'].count()"
      ],
      "execution_count": 177,
      "outputs": [
        {
          "output_type": "execute_result",
          "data": {
            "text/plain": [
              "103050"
            ]
          },
          "metadata": {},
          "execution_count": 177
        }
      ]
    },
    {
      "cell_type": "code",
      "metadata": {
        "colab": {
          "base_uri": "https://localhost:8080/"
        },
        "id": "xORneQEOij4o",
        "outputId": "17cc22a3-3a17-492a-e0bf-f34147450a86"
      },
      "source": [
        "# droping agent and company\n",
        "data.drop(['agent','company'],axis = 1,inplace= True)\n",
        "'agent' in data.columns or 'company' in data.columns"
      ],
      "execution_count": 178,
      "outputs": [
        {
          "output_type": "execute_result",
          "data": {
            "text/plain": [
              "False"
            ]
          },
          "metadata": {},
          "execution_count": 178
        }
      ]
    },
    {
      "cell_type": "markdown",
      "metadata": {
        "id": "-S_6UQb0gYZc"
      },
      "source": [
        "## Filling children missing values"
      ]
    },
    {
      "cell_type": "code",
      "metadata": {
        "colab": {
          "base_uri": "https://localhost:8080/"
        },
        "id": "FXTA9Uxfe9kf",
        "outputId": "d3835c73-d102-40dd-c4a2-9da22fcae313"
      },
      "source": [
        "# fill missing children value with 0 and change to int data type\n",
        "data['children']= data['children'].fillna(0)\n",
        "data['children']= data['children'].astype(int)\n",
        "print(data['children'].isnull().sum())"
      ],
      "execution_count": 179,
      "outputs": [
        {
          "output_type": "stream",
          "name": "stdout",
          "text": [
            "0\n"
          ]
        }
      ]
    },
    {
      "cell_type": "markdown",
      "metadata": {
        "id": "RNffYwY6eg2q"
      },
      "source": [
        "## Fillng missing country values"
      ]
    },
    {
      "cell_type": "code",
      "metadata": {
        "id": "_SK6N0wpgbEk"
      },
      "source": [
        "data['country'].fillna('PRT',inplace=True)"
      ],
      "execution_count": 180,
      "outputs": []
    },
    {
      "cell_type": "code",
      "metadata": {
        "colab": {
          "base_uri": "https://localhost:8080/"
        },
        "id": "kCiQ6hSgiZu0",
        "outputId": "1346562a-2957-4d70-a994-fea17ef8ddcf"
      },
      "source": [
        "data['country'].isnull().sum()"
      ],
      "execution_count": 181,
      "outputs": [
        {
          "output_type": "execute_result",
          "data": {
            "text/plain": [
              "0"
            ]
          },
          "metadata": {},
          "execution_count": 181
        }
      ]
    },
    {
      "cell_type": "markdown",
      "metadata": {
        "id": "HLhVMkT9glUs"
      },
      "source": [
        "## changing reservation status date to date data type from object"
      ]
    },
    {
      "cell_type": "code",
      "metadata": {
        "colab": {
          "base_uri": "https://localhost:8080/"
        },
        "id": "bmRQCjdJNGPd",
        "outputId": "5006f6e4-9906-4d89-d63e-cc5d616d1611"
      },
      "source": [
        "# changing reservation status date to date data type from object\n",
        "print(data['reservation_status_date'].dtype)\n",
        "data['reservation_status_date'] = pd.to_datetime(data['reservation_status_date'])\n",
        "print(data['reservation_status_date'].dtype)"
      ],
      "execution_count": 182,
      "outputs": [
        {
          "output_type": "stream",
          "name": "stdout",
          "text": [
            "object\n",
            "datetime64[ns]\n"
          ]
        }
      ]
    },
    {
      "cell_type": "markdown",
      "metadata": {
        "id": "uRPWbCtGghhc"
      },
      "source": [
        "## Droping rows where adult, children and babies are 0"
      ]
    },
    {
      "cell_type": "code",
      "metadata": {
        "colab": {
          "base_uri": "https://localhost:8080/"
        },
        "id": "gFl1Ln5PgfAD",
        "outputId": "351c4b66-22c9-4e32-ceea-0cde192c4867"
      },
      "source": [
        "data[~((data['adults']==0)&(data['children']==0)&(data['babies']==0))].shape"
      ],
      "execution_count": 183,
      "outputs": [
        {
          "output_type": "execute_result",
          "data": {
            "text/plain": [
              "(119210, 30)"
            ]
          },
          "metadata": {},
          "execution_count": 183
        }
      ]
    },
    {
      "cell_type": "code",
      "metadata": {
        "colab": {
          "base_uri": "https://localhost:8080/"
        },
        "id": "CCHRuDewi2eD",
        "outputId": "b228f6a5-d188-4ff5-adea-27012a739ca4"
      },
      "source": [
        "data.shape[0]-180"
      ],
      "execution_count": 184,
      "outputs": [
        {
          "output_type": "execute_result",
          "data": {
            "text/plain": [
              "119210"
            ]
          },
          "metadata": {},
          "execution_count": 184
        }
      ]
    },
    {
      "cell_type": "markdown",
      "metadata": {
        "id": "rzCQLVXrsyuG"
      },
      "source": [
        "# **Finding outliers**"
      ]
    },
    {
      "cell_type": "code",
      "metadata": {
        "id": "ZzZet68_kFX8"
      },
      "source": [
        "# # finding outliners\n",
        "# fig, ax = plt.subplots(figsize=(40, 10))\n",
        "# ax =sns.boxplot(data['lead_time'],palette=\"Set3\")"
      ],
      "execution_count": 185,
      "outputs": []
    },
    {
      "cell_type": "code",
      "metadata": {
        "id": "kAAehkxNUT6z"
      },
      "source": [
        ""
      ],
      "execution_count": 185,
      "outputs": []
    },
    {
      "cell_type": "code",
      "metadata": {
        "id": "BG8VSBOxt4i_"
      },
      "source": [
        "# sns.boxplot(x=data['stays_in_weekend_nights'],width=0.8)\n"
      ],
      "execution_count": 186,
      "outputs": []
    },
    {
      "cell_type": "code",
      "metadata": {
        "id": "Ki8nqiC3k0Xm"
      },
      "source": [
        "# sns.boxplot(x=data['stays_in_week_nights'],width=0.8)"
      ],
      "execution_count": 187,
      "outputs": []
    },
    {
      "cell_type": "code",
      "metadata": {
        "id": "2hk2Avu7lG7x"
      },
      "source": [
        "# sns.boxplot(x=data['total_of_special_requests'],width=0.8)"
      ],
      "execution_count": 188,
      "outputs": []
    },
    {
      "cell_type": "markdown",
      "metadata": {
        "id": "xQs2pvkgMvkW"
      },
      "source": [
        "# **Univeriate analysis**"
      ]
    },
    {
      "cell_type": "markdown",
      "metadata": {
        "id": "MhAS9vlNgzAE"
      },
      "source": [
        "## How many City and Resort hotels are there?"
      ]
    },
    {
      "cell_type": "code",
      "metadata": {
        "colab": {
          "base_uri": "https://localhost:8080/",
          "height": 575
        },
        "id": "tChI42pk_pUJ",
        "outputId": "62cb127d-80c6-4fa0-9bc8-299c61a73066"
      },
      "source": [
        "# Ratio of hotel types\n",
        "\n",
        "fig, ax = plt.subplots(figsize=[10,10])\n",
        "ax.pie(x=data['hotel'].value_counts().values,explode=[0.1,0.1],textprops={'fontsize': 30},startangle = 90,autopct='%.4f')\n",
        "ax.legend(labels=data['hotel'].value_counts().index,loc=1,fontsize=16)\n",
        "fig.show();"
      ],
      "execution_count": 189,
      "outputs": [
        {
          "output_type": "display_data",
          "data": {
            "image/png": "[encoded data removed]",
            "text/plain": [
              "<Figure size 720x720 with 1 Axes>"
            ]
          },
          "metadata": {}
        }
      ]
    },
    {
      "cell_type": "markdown",
      "metadata": {
        "id": "qRbLBRiFXtoc"
      },
      "source": [
        "There are more City hotels than Resort hotels the reason could be there is more demand for city hotels."
      ]
    },
    {
      "cell_type": "code",
      "metadata": {
        "colab": {
          "base_uri": "https://localhost:8080/",
          "height": 425
        },
        "id": "g6REEra8_zlh",
        "outputId": "1e4923f6-d2fb-4710-be9a-e67aab03d0fc"
      },
      "source": [
        "data['hotel'].value_counts().plot(kind ='bar',color=[\"black\", \"red\"],figsize=(10, 6));\n",
        "plt.grid(axis = 'x')\n",
        "\n"
      ],
      "execution_count": 190,
      "outputs": [
        {
          "output_type": "display_data",
          "data": {
            "image/png": "[encoded data removed]",
            "text/plain": [
              "<Figure size 720x432 with 1 Axes>"
            ]
          },
          "metadata": {}
        }
      ]
    },
    {
      "cell_type": "code",
      "metadata": {
        "colab": {
          "base_uri": "https://localhost:8080/",
          "height": 585
        },
        "id": "Beir95FLhP1G",
        "outputId": "d3802f27-3d4f-415c-ed82-58bfa805c773"
      },
      "source": [
        "\n",
        "rcParams['figure.figsize'] = 11.7,8.27\n",
        "sns.countplot(data['hotel'],palette=\"Set1\")"
      ],
      "execution_count": 191,
      "outputs": [
        {
          "output_type": "stream",
          "name": "stderr",
          "text": [
            "/usr/local/lib/python3.7/dist-packages/seaborn/_decorators.py:43: FutureWarning: Pass the following variable as a keyword arg: x. From version 0.12, the only valid positional argument will be `data`, and passing other arguments without an explicit keyword will result in an error or misinterpretation.\n",
            "  FutureWarning\n"
          ]
        },
        {
          "output_type": "execute_result",
          "data": {
            "text/plain": [
              "<matplotlib.axes._subplots.AxesSubplot at 0x7fd8f2615890>"
            ]
          },
          "metadata": {},
          "execution_count": 191
        },
        {
          "output_type": "display_data",
          "data": {
            "image/png": "[encoded data removed]",
            "text/plain": [
              "<Figure size 842.4x595.44 with 1 Axes>"
            ]
          },
          "metadata": {}
        }
      ]
    },
    {
      "cell_type": "markdown",
      "metadata": {
        "id": "6TxsHeil3Xyz"
      },
      "source": [
        "#  Did customer get reserved room type "
      ]
    },
    {
      "cell_type": "markdown",
      "metadata": {
        "id": "Q4r48bJnu09D"
      },
      "source": [
        "# How long do people stay at the hotels per market segment?"
      ]
    },
    {
      "cell_type": "code",
      "metadata": {
        "colab": {
          "base_uri": "https://localhost:8080/",
          "height": 609
        },
        "id": "eYiaSWX1SW71",
        "outputId": "00b71e5c-69db-4d23-be5f-807d955b67f8"
      },
      "source": [
        "plt.figure(figsize = (15,10))\n",
        "sns.boxplot(x = \"market_segment\", y = \"stays_in_week_nights\", data = data, hue = \"hotel\", palette = 'Set1');"
      ],
      "execution_count": 192,
      "outputs": [
        {
          "output_type": "display_data",
          "data": {
            "image/png": "[encoded data removed]",
            "text/plain": [
              "<Figure size 1080x720 with 1 Axes>"
            ]
          },
          "metadata": {}
        }
      ]
    },
    {
      "cell_type": "code",
      "metadata": {
        "colab": {
          "base_uri": "https://localhost:8080/",
          "height": 609
        },
        "id": "58SrkeG-vTb3",
        "outputId": "18ed24f8-b4bc-4e26-b87a-a8f80be5dbd8"
      },
      "source": [
        "plt.figure(figsize=(15,10))\n",
        "sns.boxplot(x = \"market_segment\", y = \"stays_in_weekend_nights\", data = data, hue = \"hotel\", palette = 'Set1');\n"
      ],
      "execution_count": 193,
      "outputs": [
        {
          "output_type": "display_data",
          "data": {
            "image/png": "[encoded data removed]",
            "text/plain": [
              "<Figure size 1080x720 with 1 Axes>"
            ]
          },
          "metadata": {}
        }
      ]
    },
    {
      "cell_type": "markdown",
      "metadata": {
        "id": "5kVLV_c3v0cN"
      },
      "source": [
        "# Lead time of market segment lead time"
      ]
    },
    {
      "cell_type": "code",
      "metadata": {
        "colab": {
          "base_uri": "https://localhost:8080/",
          "height": 609
        },
        "id": "kBOni669vzo5",
        "outputId": "68f7123a-a6c7-42af-c855-bfd8ae064a4f"
      },
      "source": [
        "plt.figure(figsize=(15,10))\n",
        "sns.barplot(x = \"market_segment\", y = \"lead_time\", data = data, hue = \"hotel\", palette = 'Set1');\n"
      ],
      "execution_count": 194,
      "outputs": [
        {
          "output_type": "display_data",
          "data": {
            "image/png": "[encoded data removed]",
            "text/plain": [
              "<Figure size 1080x720 with 1 Axes>"
            ]
          },
          "metadata": {}
        }
      ]
    },
    {
      "cell_type": "code",
      "metadata": {
        "id": "IIiPYfQ9weK0"
      },
      "source": [
        ""
      ],
      "execution_count": 194,
      "outputs": []
    },
    {
      "cell_type": "code",
      "metadata": {
        "colab": {
          "base_uri": "https://localhost:8080/"
        },
        "id": "1YzfjSn0uan_",
        "outputId": "3caf2248-e24a-4b61-ef7c-9e3bad9c0f86"
      },
      "source": [
        "data.columns\n"
      ],
      "execution_count": 195,
      "outputs": [
        {
          "output_type": "execute_result",
          "data": {
            "text/plain": [
              "Index(['hotel', 'is_canceled', 'lead_time', 'arrival_date_year',\n",
              "       'arrival_date_month', 'arrival_date_week_number',\n",
              "       'arrival_date_day_of_month', 'stays_in_weekend_nights',\n",
              "       'stays_in_week_nights', 'adults', 'children', 'babies', 'meal',\n",
              "       'country', 'market_segment', 'distribution_channel',\n",
              "       'is_repeated_guest', 'previous_cancellations',\n",
              "       'previous_bookings_not_canceled', 'reserved_room_type',\n",
              "       'assigned_room_type', 'booking_changes', 'deposit_type',\n",
              "       'days_in_waiting_list', 'customer_type', 'adr',\n",
              "       'required_car_parking_spaces', 'total_of_special_requests',\n",
              "       'reservation_status', 'reservation_status_date'],\n",
              "      dtype='object')"
            ]
          },
          "metadata": {},
          "execution_count": 195
        }
      ]
    },
    {
      "cell_type": "markdown",
      "metadata": {
        "id": "lFbI6vaDrDN1"
      },
      "source": [
        "# Top 10 countries to focus on"
      ]
    },
    {
      "cell_type": "code",
      "metadata": {
        "id": "3M2EZLqRyxkt"
      },
      "source": [
        " mask = data['country'].value_counts().index\n",
        " clrs = ['black' if (x in mask[:15]) else 'orange' for x in mask]"
      ],
      "execution_count": 196,
      "outputs": []
    },
    {
      "cell_type": "code",
      "metadata": {
        "colab": {
          "base_uri": "https://localhost:8080/",
          "height": 585
        },
        "id": "D20yzad1jRmJ",
        "outputId": "56c97ce2-960e-4818-9795-6d2a6f28eb55"
      },
      "source": [
        "# top 10 countries to focus on\n",
        "data['country'].value_counts()[:40].plot(kind='bar',figsize = (18,8),color=clrs);\n",
        "plt.grid(axis = 'x')\n",
        "plt.tight_layout()"
      ],
      "execution_count": 197,
      "outputs": [
        {
          "output_type": "display_data",
          "data": {
            "image/png": "[encoded data removed]",
            "text/plain": [
              "<Figure size 1296x576 with 1 Axes>"
            ]
          },
          "metadata": {}
        }
      ]
    },
    {
      "cell_type": "markdown",
      "metadata": {
        "id": "dxowcfHK2XNQ"
      },
      "source": [
        "# Top months to focus on"
      ]
    },
    {
      "cell_type": "code",
      "metadata": {
        "colab": {
          "base_uri": "https://localhost:8080/",
          "height": 585
        },
        "id": "hi_wyTwzznVf",
        "outputId": "c1cead36-7bcc-473c-e2af-8344ff1ffd0c"
      },
      "source": [
        "\n",
        "data['arrival_date_month'].value_counts().plot(kind='barh',figsize = (8,8));\n",
        "plt.grid(axis = 'y')\n",
        "plt.tight_layout()\n"
      ],
      "execution_count": 198,
      "outputs": [
        {
          "output_type": "display_data",
          "data": {
            "image/png": "[encoded data removed]",
            "text/plain": [
              "<Figure size 576x576 with 1 Axes>"
            ]
          },
          "metadata": {}
        }
      ]
    },
    {
      "cell_type": "markdown",
      "metadata": {
        "id": "mVbajsVgmh-i"
      },
      "source": [
        "Most guests visit in August, July,May,June,April and least in November,December,January "
      ]
    },
    {
      "cell_type": "code",
      "metadata": {
        "colab": {
          "base_uri": "https://localhost:8080/",
          "height": 322
        },
        "id": "LeUr_JQ6n4WW",
        "outputId": "50457082-b952-4069-eeb9-baa7bc0b32d9"
      },
      "source": [
        "data['adults'].value_counts().plot(kind='bar',figsize = (6,5));\n"
      ],
      "execution_count": 199,
      "outputs": [
        {
          "output_type": "display_data",
          "data": {
            "image/png": "[encoded data removed]",
            "text/plain": [
              "<Figure size 432x360 with 1 Axes>"
            ]
          },
          "metadata": {}
        }
      ]
    },
    {
      "cell_type": "markdown",
      "metadata": {
        "id": "wXCz0CtDZf83"
      },
      "source": [
        "my questions \n",
        "1. What is the avg lead time of different customers?✔️\n",
        "2. How long do people stay at the hotels?✔️   \n",
        "3. Did customer get reserved room type \n",
        "4. What is the booking ratio between a resort hotel and a city hotel?✔️\n",
        "\n",
        "\n",
        "\n",
        "\n",
        "\n"
      ]
    },
    {
      "cell_type": "code",
      "metadata": {
        "id": "kyN1IaTmcLaY"
      },
      "source": [
        "# fig, ax1 = plt.subplots(figsize=(12,6))\n",
        "\n",
        "# sns.lineplot(data = df['y_var_1'], marker='o', sort = False, ax=ax1)\n",
        "# ax2 = ax1.twinx()\n",
        "\n",
        "# sns.barplot(data = df, x='x_var', y='y_var_2', alpha=0.5, ax=ax2)"
      ],
      "execution_count": 200,
      "outputs": []
    },
    {
      "cell_type": "code",
      "metadata": {
        "id": "LFY9kmiVzvGz"
      },
      "source": [
        "a =data[['reserved_room_type','assigned_room_type']].value_counts()"
      ],
      "execution_count": 201,
      "outputs": []
    },
    {
      "cell_type": "code",
      "metadata": {
        "id": "v7Kq7Swj0Ga5"
      },
      "source": [
        "pd.set_option('display.max_rows', 100)"
      ],
      "execution_count": 202,
      "outputs": []
    },
    {
      "cell_type": "code",
      "metadata": {
        "id": "06aE3sK98fsw"
      },
      "source": [
        "b = data.groupby('reserved_room_type')['assigned_room_type']"
      ],
      "execution_count": 203,
      "outputs": []
    },
    {
      "cell_type": "code",
      "metadata": {
        "colab": {
          "base_uri": "https://localhost:8080/",
          "height": 514
        },
        "id": "F5ftFrjvIyMC",
        "outputId": "2ce8c567-fbf8-4d36-cbcb-99df09acecf2"
      },
      "source": [
        "plt.bar(x=data['assigned_room_type'].value_counts().index,height=data['assigned_room_type'].value_counts().values)\n",
        "plt.bar(x=data['reserved_room_type'].value_counts().index,height=data['reserved_room_type'].value_counts().values)"
      ],
      "execution_count": 204,
      "outputs": [
        {
          "output_type": "execute_result",
          "data": {
            "text/plain": [
              "<BarContainer object of 10 artists>"
            ]
          },
          "metadata": {},
          "execution_count": 204
        },
        {
          "output_type": "display_data",
          "data": {
            "image/png": "[encoded data removed]",
            "text/plain": [
              "<Figure size 842.4x595.44 with 1 Axes>"
            ]
          },
          "metadata": {}
        }
      ]
    },
    {
      "cell_type": "code",
      "metadata": {
        "colab": {
          "base_uri": "https://localhost:8080/",
          "height": 602
        },
        "id": "VKKPrbIiODN-",
        "outputId": "f60f7ceb-0be9-4d61-9ecb-821f987dc6a2"
      },
      "source": [
        "sns.countplot(data['assigned_room_type'],palette = 'Set3',alpha=0.5)\n",
        "sns.countplot(data['reserved_room_type'],palette = 'Set1',alpha=0.5);"
      ],
      "execution_count": 205,
      "outputs": [
        {
          "output_type": "stream",
          "name": "stderr",
          "text": [
            "/usr/local/lib/python3.7/dist-packages/seaborn/_decorators.py:43: FutureWarning: Pass the following variable as a keyword arg: x. From version 0.12, the only valid positional argument will be `data`, and passing other arguments without an explicit keyword will result in an error or misinterpretation.\n",
            "  FutureWarning\n",
            "/usr/local/lib/python3.7/dist-packages/seaborn/_decorators.py:43: FutureWarning: Pass the following variable as a keyword arg: x. From version 0.12, the only valid positional argument will be `data`, and passing other arguments without an explicit keyword will result in an error or misinterpretation.\n",
            "  FutureWarning\n"
          ]
        },
        {
          "output_type": "display_data",
          "data": {
            "image/png": "[encoded data removed]",
            "text/plain": [
              "<Figure size 842.4x595.44 with 1 Axes>"
            ]
          },
          "metadata": {}
        }
      ]
    },
    {
      "cell_type": "code",
      "metadata": {
        "colab": {
          "base_uri": "https://localhost:8080/",
          "height": 529
        },
        "id": "U4nd2Ag_Oj7n",
        "outputId": "f3bfc181-111b-41fa-8326-2c4652c5c79a"
      },
      "source": [
        "pd.crosstab(data['assigned_room_type'],data['reserved_room_type']).plot(kind=\"bar\",stacked=True)"
      ],
      "execution_count": 206,
      "outputs": [
        {
          "output_type": "execute_result",
          "data": {
            "text/plain": [
              "<matplotlib.axes._subplots.AxesSubplot at 0x7fd8f265e990>"
            ]
          },
          "metadata": {},
          "execution_count": 206
        },
        {
          "output_type": "display_data",
          "data": {
            "image/png": "[encoded data removed]",
            "text/plain": [
              "<Figure size 842.4x595.44 with 1 Axes>"
            ]
          },
          "metadata": {}
        }
      ]
    },
    {
      "cell_type": "code",
      "metadata": {
        "id": "6mDZe8GLRrPJ"
      },
      "source": [
        ""
      ],
      "execution_count": 206,
      "outputs": []
    }
  ]
}